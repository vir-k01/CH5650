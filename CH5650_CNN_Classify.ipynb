{
  "nbformat": 4,
  "nbformat_minor": 0,
  "metadata": {
    "colab": {
      "name": "CH5650:CNN_Classify.ipynb",
      "provenance": [],
      "authorship_tag": "ABX9TyNItEGU4sQoWUd5L6QGCLu6",
      "include_colab_link": true
    },
    "kernelspec": {
      "name": "python3",
      "display_name": "Python 3"
    },
    "language_info": {
      "name": "python"
    },
    "accelerator": "GPU"
  },
  "cells": [
    {
      "cell_type": "markdown",
      "metadata": {
        "id": "view-in-github",
        "colab_type": "text"
      },
      "source": [
        "<a href=\"https://colab.research.google.com/github/vir-k01/CH5650/blob/main/CH5650_CNN_Classify.ipynb\" target=\"_parent\"><img src=\"https://colab.research.google.com/assets/colab-badge.svg\" alt=\"Open In Colab\"/></a>"
      ]
    },
    {
      "cell_type": "markdown",
      "source": [
        "#Classifying crystal structures using 2D Diffraction Fingerpirnts and CNN\n",
        "-Authored by Vir Karan"
      ],
      "metadata": {
        "id": "G4mK1FUk_-ou"
      }
    },
    {
      "cell_type": "markdown",
      "source": [
        "### Loading the required packages and dataset"
      ],
      "metadata": {
        "id": "9zb95NelATco"
      }
    },
    {
      "cell_type": "code",
      "execution_count": 2,
      "metadata": {
        "colab": {
          "base_uri": "https://localhost:8080/"
        },
        "id": "c-I8OupO_ofV",
        "outputId": "c91ae7d7-48e8-40e7-da84-553bd1a074a2"
      },
      "outputs": [
        {
          "output_type": "stream",
          "name": "stdout",
          "text": [
            "Collecting keract\n",
            "  Downloading keract-4.5.0-py2.py3-none-any.whl (12 kB)\n",
            "Installing collected packages: keract\n",
            "Successfully installed keract-4.5.0\n"
          ]
        }
      ],
      "source": [
        "!pip install keract\n",
        "import tensorflow as tf\n",
        "import numpy as np\n",
        "import matplotlib.pyplot as plt\n",
        "from tensorflow.keras.layers import Input, Dense, Convolution2D, MaxPool2D, Dropout, BatchNormalization\n",
        "from tensorflow.keras.activations import softmax\n",
        "from tensorflow.keras.optimizers import Adam\n",
        "from tensorflow.keras.utils import to_categorical\n",
        "from sklearn.metrics import confusion_matrix\n",
        "import pickle\n",
        "from keract import get_activations\n",
        "from keract import display_activations\n",
        "np.random.seed(42)"
      ]
    },
    {
      "cell_type": "markdown",
      "source": [
        "I'm loading the dataset from my google drive, hence the below cell. Data can be downloaded from:\n",
        "\n",
        "Pristine dataset (Diffraction fingerprints of crystals): https://dataverse.harvard.edu/api/access/datafile/3238702?format=original\n",
        "\n",
        "Pristine dataset (Labels of crystals): https://dataverse.harvard.edu/api/access/datafile/3238704?format=original\n",
        "\n",
        "Dataset info: https://dataverse.harvard.edu/api/access/datafile/3238706?format=original\n",
        "\n",
        "Defected dataset (Diffraction fingerprints of defected crystals): https://dataverse.harvard.edu/api/access/datafile/3238702?format=original\n",
        "\n",
        "Defected dataset (Labels of defected crystals): https://dataverse.harvard.edu/api/access/datafile/3238704?format=original\n",
        "\n",
        "Dataset is in the form of pickled files, have to open them and convert to numpy arrays."
      ],
      "metadata": {
        "id": "U3j3RmDHAcs_"
      }
    },
    {
      "cell_type": "code",
      "source": [
        "from google.colab import drive\n",
        "drive.mount('/content/drive')\n",
        "X = pickle.load(open('/content/drive/MyDrive/Acads/CH5650/pristine_dataset_x.pkl', 'rb'), encoding='latin1')\n",
        "y = pickle.load(open('/content/drive/MyDrive/Acads/CH5650/pristine_dataset_y.pkl', 'rb'), encoding='latin1')\n",
        "X_val = pickle.load(open('/content/drive/MyDrive/Acads/CH5650/pristine_dataset_x_val.pkl', 'rb'), encoding='latin1')\n",
        "y_val = pickle.load(open('/content/drive/MyDrive/Acads/CH5650/pristine_dataset_y_val.pkl', 'rb'), encoding='latin1')"
      ],
      "metadata": {
        "colab": {
          "base_uri": "https://localhost:8080/"
        },
        "id": "L4fGlkfd_8Rh",
        "outputId": "7b125508-d13f-47b0-f715-179cb3907d92"
      },
      "execution_count": 3,
      "outputs": [
        {
          "output_type": "stream",
          "name": "stdout",
          "text": [
            "Mounted at /content/drive\n"
          ]
        }
      ]
    },
    {
      "cell_type": "markdown",
      "source": [
        "Have to convert labels to categorical (one-hot encoding) for feeding to CNN model next."
      ],
      "metadata": {
        "id": "ALpW6xSjBA0B"
      }
    },
    {
      "cell_type": "code",
      "source": [
        "y_train = to_categorical(y)\n",
        "y_val_cat = to_categorical(y_val)"
      ],
      "metadata": {
        "id": "gmQ_Ot4KA-Fm"
      },
      "execution_count": 4,
      "outputs": []
    },
    {
      "cell_type": "markdown",
      "source": [
        "### Building and training the CNN model"
      ],
      "metadata": {
        "id": "QeEDNsLTAyTC"
      }
    },
    {
      "cell_type": "markdown",
      "source": [
        "We now build and compile the model with the hyperparamters mentioned in the reference paper and start training."
      ],
      "metadata": {
        "id": "ds5mjG9ABKrW"
      }
    },
    {
      "cell_type": "code",
      "source": [
        "model = tf.keras.Sequential()\n",
        "model.add(Input(shape=(64, 64, 3)))\n",
        "model.add(Convolution2D(filters=32, kernel_size=(7, 7), padding='same'))\n",
        "model.add(Convolution2D(filters=32, kernel_size=(7, 7), padding='same'))\n",
        "model.add(MaxPool2D(pool_size=(2, 2), strides=(2, 2)))\n",
        "model.add(Convolution2D(filters=16, kernel_size=(7, 7), padding='same'))\n",
        "model.add(Convolution2D(filters=16, kernel_size=(7, 7), padding='same'))\n",
        "model.add(MaxPool2D(pool_size=(2, 2), strides=(2, 2)))\n",
        "model.add(Convolution2D(filters=8, kernel_size=(7, 7), padding='same'))\n",
        "model.add(Convolution2D(filters=8, kernel_size=(7, 7), padding='same'))\n",
        "model.add(tf.keras.layers.Flatten())\n",
        "model.add(Dense(128))\n",
        "model.add(Dropout(0.25))\n",
        "model.add(BatchNormalization())\n",
        "model.add(Dense(7, activation='softmax'))\n",
        "model.summary()"
      ],
      "metadata": {
        "colab": {
          "base_uri": "https://localhost:8080/"
        },
        "id": "OvyeL73QA0bn",
        "outputId": "91abda55-7b5d-4b0d-eec6-095e524f2248"
      },
      "execution_count": 5,
      "outputs": [
        {
          "output_type": "stream",
          "name": "stdout",
          "text": [
            "Model: \"sequential\"\n",
            "_________________________________________________________________\n",
            " Layer (type)                Output Shape              Param #   \n",
            "=================================================================\n",
            " conv2d (Conv2D)             (None, 64, 64, 32)        4736      \n",
            "                                                                 \n",
            " conv2d_1 (Conv2D)           (None, 64, 64, 32)        50208     \n",
            "                                                                 \n",
            " max_pooling2d (MaxPooling2D  (None, 32, 32, 32)       0         \n",
            " )                                                               \n",
            "                                                                 \n",
            " conv2d_2 (Conv2D)           (None, 32, 32, 16)        25104     \n",
            "                                                                 \n",
            " conv2d_3 (Conv2D)           (None, 32, 32, 16)        12560     \n",
            "                                                                 \n",
            " max_pooling2d_1 (MaxPooling  (None, 16, 16, 16)       0         \n",
            " 2D)                                                             \n",
            "                                                                 \n",
            " conv2d_4 (Conv2D)           (None, 16, 16, 8)         6280      \n",
            "                                                                 \n",
            " conv2d_5 (Conv2D)           (None, 16, 16, 8)         3144      \n",
            "                                                                 \n",
            " flatten (Flatten)           (None, 2048)              0         \n",
            "                                                                 \n",
            " dense (Dense)               (None, 128)               262272    \n",
            "                                                                 \n",
            " dropout (Dropout)           (None, 128)               0         \n",
            "                                                                 \n",
            " batch_normalization (BatchN  (None, 128)              512       \n",
            " ormalization)                                                   \n",
            "                                                                 \n",
            " dense_1 (Dense)             (None, 7)                 903       \n",
            "                                                                 \n",
            "=================================================================\n",
            "Total params: 365,719\n",
            "Trainable params: 365,463\n",
            "Non-trainable params: 256\n",
            "_________________________________________________________________\n"
          ]
        }
      ]
    },
    {
      "cell_type": "code",
      "source": [
        "adam = Adam(lr=0.001, beta_1=0.9, beta_2=0.99, decay=0)\n",
        "METRICS = [\n",
        "      #tf.keras.metrics.TruePositives(name='tp'),\n",
        "      #tf.keras.metrics.FalsePositives(name='fp'),\n",
        "      #tf.keras.metrics.TrueNegatives(name='tn'),\n",
        "      #tf.keras.metrics.FalseNegatives(name='fn'), \n",
        "      tf.keras.metrics.BinaryAccuracy(name='accuracy'),\n",
        "      #tf.keras.metrics.Precision(name='precision'),\n",
        "      #tf.keras.metrics.Recall(name='recall'),\n",
        "      tf.keras.metrics.AUC(name='auc'),\n",
        "      #tf.keras.metrics.AUC(name='prc', curve='PR'), # precision-recall curve\n",
        "]\n",
        "model.compile(optimizer=adam, loss='categorical_crossentropy', metrics=METRICS)\n",
        "hist = model.fit(X, y_train, epochs=5, batch_size=32, validation_split=0.05, validation_data=(X_val, y_val_cat), shuffle=True)\n",
        "model.save('trained.hdf5')"
      ],
      "metadata": {
        "colab": {
          "base_uri": "https://localhost:8080/"
        },
        "id": "RgImk9d6BLLp",
        "outputId": "278df65d-c4f0-4659-ca42-91a69d9d5a29"
      },
      "execution_count": 6,
      "outputs": [
        {
          "output_type": "stream",
          "name": "stderr",
          "text": [
            "/usr/local/lib/python3.7/dist-packages/keras/optimizer_v2/adam.py:105: UserWarning: The `lr` argument is deprecated, use `learning_rate` instead.\n",
            "  super(Adam, self).__init__(name, **kwargs)\n"
          ]
        },
        {
          "output_type": "stream",
          "name": "stdout",
          "text": [
            "Epoch 1/5\n",
            "313/313 [==============================] - 30s 59ms/step - loss: 0.0190 - accuracy: 0.9988 - auc: 0.9998 - val_loss: 9.2268e-05 - val_accuracy: 1.0000 - val_auc: 1.0000\n",
            "Epoch 2/5\n",
            "313/313 [==============================] - 18s 56ms/step - loss: 0.0040 - accuracy: 0.9997 - auc: 0.9999 - val_loss: 1.2442e-07 - val_accuracy: 1.0000 - val_auc: 1.0000\n",
            "Epoch 3/5\n",
            "313/313 [==============================] - 17s 56ms/step - loss: 0.0026 - accuracy: 0.9998 - auc: 1.0000 - val_loss: 1.6648e-06 - val_accuracy: 1.0000 - val_auc: 1.0000\n",
            "Epoch 4/5\n",
            "313/313 [==============================] - 17s 56ms/step - loss: 0.0011 - accuracy: 0.9999 - auc: 1.0000 - val_loss: 4.3015e-07 - val_accuracy: 1.0000 - val_auc: 1.0000\n",
            "Epoch 5/5\n",
            "313/313 [==============================] - 17s 55ms/step - loss: 1.0870e-04 - accuracy: 1.0000 - auc: 1.0000 - val_loss: 3.5876e-07 - val_accuracy: 1.0000 - val_auc: 1.0000\n"
          ]
        }
      ]
    },
    {
      "cell_type": "markdown",
      "source": [
        "The loss curves from the training process can then be plotted. "
      ],
      "metadata": {
        "id": "qAnmT2nzBcFH"
      }
    },
    {
      "cell_type": "code",
      "source": [
        "plt.plot(np.linspace(1, 5, 5), hist.history['loss'], label='Train loss')\n",
        "plt.plot(np.linspace(1, 5, 5), hist.history['val_loss'], label='Val loss')\n",
        "plt.xlabel('Epochs')\n",
        "plt.ylabel('Loss (BCE)')\n",
        "plt.legend()\n",
        "plt.show()"
      ],
      "metadata": {
        "colab": {
          "base_uri": "https://localhost:8080/",
          "height": 279
        },
        "id": "RNte4LZUBgwB",
        "outputId": "0009b96e-a481-4632-8863-55080e881c74"
      },
      "execution_count": 10,
      "outputs": [
        {
          "output_type": "display_data",
          "data": {
            "text/plain": [
              "<Figure size 432x288 with 1 Axes>"
            ],
            "image/png": "[encoded data removed]"
          },
          "metadata": {
            "needs_background": "light"
          }
        }
      ]
    },
    {
      "cell_type": "markdown",
      "source": [
        "Evaluate the trained model by finding the confusion matrix."
      ],
      "metadata": {
        "id": "5I_xSiS9BvZM"
      }
    },
    {
      "cell_type": "code",
      "source": [
        "pred_val = model.predict(X_val)\n",
        "labels_val = np.argmax(pred_val, axis=1)\n",
        "confusion_matrix(y, labels_val)"
      ],
      "metadata": {
        "colab": {
          "base_uri": "https://localhost:8080/"
        },
        "id": "i8RhKFiGB0Ah",
        "outputId": "36a945c7-4d21-4eec-8f6c-488946b934d3"
      },
      "execution_count": 8,
      "outputs": [
        {
          "output_type": "execute_result",
          "data": {
            "text/plain": [
              "array([[2601,    0,    0,    0,    0,    0,    0],\n",
              "       [   1,  220,    0,    0,    0,    0,    0],\n",
              "       [   0,    0,  842,    0,    0,    0,    0],\n",
              "       [   0,    0,    0,  910,    0,    0,    0],\n",
              "       [   0,    0,    0,    0, 2761,    0,    0],\n",
              "       [   0,    0,    0,    0,    0, 3178,    0],\n",
              "       [   0,    0,    0,    0,    0,    0,    4]])"
            ]
          },
          "metadata": {},
          "execution_count": 8
        }
      ]
    },
    {
      "cell_type": "markdown",
      "source": [
        "Finally, using the keract library, compute and visualize the activation maps. (Result omitted due to large size)"
      ],
      "metadata": {
        "id": "Fc71KCFoCAOR"
      }
    },
    {
      "cell_type": "code",
      "source": [
        "activations = get_activations(model, X[500].reshape(1, 64, 64, 3))\n",
        "display_activations(activations, save=False, cmap='gray')"
      ],
      "metadata": {
        "id": "6xFpKr6sCGAC"
      },
      "execution_count": null,
      "outputs": []
    }
  ]
}